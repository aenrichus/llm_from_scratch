{
 "cells": [
  {
   "cell_type": "code",
   "execution_count": 1,
   "id": "1476ef27",
   "metadata": {},
   "outputs": [],
   "source": [
    "import json\n",
    "import os\n",
    "import urllib.request"
   ]
  },
  {
   "cell_type": "code",
   "execution_count": 2,
   "id": "6034c69c",
   "metadata": {},
   "outputs": [],
   "source": [
    "def download_and_load_file(file_path, url):\n",
    "    \"\"\"\n",
    "    Download a file from a URL and save it to the specified file path.\n",
    "    \"\"\"\n",
    "    if not os.path.exists(file_path):\n",
    "        print(f\"Downloading {url} to {file_path}...\")\n",
    "        with urllib.request.urlopen(url) as response:\n",
    "            text_data = response.read().decode('utf-8')\n",
    "        with open(file_path, 'w', encoding=\"utf-8\") as file:\n",
    "                file.write(text_data)\n",
    "        print(\"Download complete.\")\n",
    "    else:\n",
    "        print(f\"{file_path} already exists. Skipping download.\")\n",
    "        with open(file_path, 'r', encoding=\"utf-8\") as file:\n",
    "            text_data = file.read()\n",
    "    \n",
    "    with open(file_path, 'r') as file:\n",
    "        data = json.load(file)\n",
    "    \n",
    "    return data\n"
   ]
  },
  {
   "cell_type": "code",
   "execution_count": 3,
   "id": "6aef4cd3",
   "metadata": {},
   "outputs": [
    {
     "name": "stdout",
     "output_type": "stream",
     "text": [
      "instruction-data.json already exists. Skipping download.\n",
      "Loaded 1100 instruction-response pairs.\n",
      "Example entry: \n",
      " {'instruction': 'Identify the correct spelling of the following word.', 'input': 'Ocassion', 'output': \"The correct spelling is 'Occasion.'\"}\n",
      "Another entry: \n",
      " {'instruction': \"What is an antonym of 'complicated'?\", 'input': '', 'output': \"An antonym of 'complicated' is 'simple'.\"}\n"
     ]
    }
   ],
   "source": [
    "file_path = \"instruction-data.json\"\n",
    "url = \"https://raw.githubusercontent.com/rasbt/LLMs-from-scratch/main/ch07/01_main-chapter-code/instruction-data.json\"\n",
    "\n",
    "data = download_and_load_file(file_path, url)\n",
    "print(f\"Loaded {len(data)} instruction-response pairs.\")\n",
    "print(\"Example entry: \\n\", data[50])\n",
    "print(\"Another entry: \\n\", data[999])"
   ]
  }
 ],
 "metadata": {
  "kernelspec": {
   "display_name": "llm_scratch",
   "language": "python",
   "name": "python3"
  },
  "language_info": {
   "codemirror_mode": {
    "name": "ipython",
    "version": 3
   },
   "file_extension": ".py",
   "mimetype": "text/x-python",
   "name": "python",
   "nbconvert_exporter": "python",
   "pygments_lexer": "ipython3",
   "version": "3.11.0"
  }
 },
 "nbformat": 4,
 "nbformat_minor": 5
}
